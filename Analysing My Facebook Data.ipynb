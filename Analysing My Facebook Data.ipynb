{
 "cells": [
  {
   "cell_type": "markdown",
   "metadata": {},
   "source": [
    "# Introduction: \n",
    "In this analysis, I will be analysing my facebook usage data, focusing on my posts since I joined in 2010. The dataset contains 465 rows and 5 columns downloaded from the facebook site."
   ]
  },
  {
   "cell_type": "markdown",
   "metadata": {},
   "source": [
    "# Research Questions: \n",
    "1. How often are my facebook posts?\n",
    "2. Has there been a change in the frequency of my posts?"
   ]
  },
  {
   "cell_type": "code",
   "execution_count": 1,
   "metadata": {},
   "outputs": [],
   "source": [
    "#import relevant python libraries for analysis\n",
    "import pandas as pd\n",
    "import numpy as np\n",
    "import matplotlib.pyplot as plt\n",
    "import seaborn as sns\n",
    "%matplotlib inline"
   ]
  },
  {
   "cell_type": "markdown",
   "metadata": {},
   "source": [
    "# Data Wrangling \n",
    "The pandas library will be used to display basic information about the dataset."
   ]
  },
  {
   "cell_type": "code",
   "execution_count": 2,
   "metadata": {},
   "outputs": [
    {
     "data": {
      "text/html": [
       "<div>\n",
       "<style scoped>\n",
       "    .dataframe tbody tr th:only-of-type {\n",
       "        vertical-align: middle;\n",
       "    }\n",
       "\n",
       "    .dataframe tbody tr th {\n",
       "        vertical-align: top;\n",
       "    }\n",
       "\n",
       "    .dataframe thead th {\n",
       "        text-align: right;\n",
       "    }\n",
       "</style>\n",
       "<table border=\"1\" class=\"dataframe\">\n",
       "  <thead>\n",
       "    <tr style=\"text-align: right;\">\n",
       "      <th></th>\n",
       "      <th>timestamp</th>\n",
       "      <th>attachments</th>\n",
       "      <th>data</th>\n",
       "      <th>title</th>\n",
       "      <th>tags</th>\n",
       "    </tr>\n",
       "  </thead>\n",
       "  <tbody>\n",
       "    <tr>\n",
       "      <th>0</th>\n",
       "      <td>2020-12-09 12:57:08</td>\n",
       "      <td>[{'data': [{'media': {'uri': 'photos_and_video...</td>\n",
       "      <td>[{'post': 'Whew! \n",
       "It has been quite the year a...</td>\n",
       "      <td>NaN</td>\n",
       "      <td>NaN</td>\n",
       "    </tr>\n",
       "    <tr>\n",
       "      <th>1</th>\n",
       "      <td>2020-10-23 14:27:16</td>\n",
       "      <td>[{'data': [{'media': {'uri': 'photos_and_video...</td>\n",
       "      <td>[{'post': '20.10.20.\n",
       "Who will pay for this los...</td>\n",
       "      <td>NaN</td>\n",
       "      <td>NaN</td>\n",
       "    </tr>\n",
       "    <tr>\n",
       "      <th>2</th>\n",
       "      <td>2020-10-14 16:55:45</td>\n",
       "      <td>[{'data': [{'media': {'uri': 'photos_and_video...</td>\n",
       "      <td>[{'post': 'Many young Nigerians have been push...</td>\n",
       "      <td>NaN</td>\n",
       "      <td>NaN</td>\n",
       "    </tr>\n",
       "    <tr>\n",
       "      <th>3</th>\n",
       "      <td>2020-07-25 07:45:07</td>\n",
       "      <td>[]</td>\n",
       "      <td>[{'update_timestamp': 1595663107}]</td>\n",
       "      <td>NaN</td>\n",
       "      <td>NaN</td>\n",
       "    </tr>\n",
       "    <tr>\n",
       "      <th>4</th>\n",
       "      <td>2020-07-22 11:20:12</td>\n",
       "      <td>[]</td>\n",
       "      <td>[{'update_timestamp': 1595416812}]</td>\n",
       "      <td>NaN</td>\n",
       "      <td>NaN</td>\n",
       "    </tr>\n",
       "  </tbody>\n",
       "</table>\n",
       "</div>"
      ],
      "text/plain": [
       "            timestamp                                        attachments  \\\n",
       "0 2020-12-09 12:57:08  [{'data': [{'media': {'uri': 'photos_and_video...   \n",
       "1 2020-10-23 14:27:16  [{'data': [{'media': {'uri': 'photos_and_video...   \n",
       "2 2020-10-14 16:55:45  [{'data': [{'media': {'uri': 'photos_and_video...   \n",
       "3 2020-07-25 07:45:07                                                 []   \n",
       "4 2020-07-22 11:20:12                                                 []   \n",
       "\n",
       "                                                data title tags  \n",
       "0  [{'post': 'Whew! \n",
       "It has been quite the year a...   NaN  NaN  \n",
       "1  [{'post': '20.10.20.\n",
       "Who will pay for this los...   NaN  NaN  \n",
       "2  [{'post': 'Many young Nigerians have been push...   NaN  NaN  \n",
       "3                 [{'update_timestamp': 1595663107}]   NaN  NaN  \n",
       "4                 [{'update_timestamp': 1595416812}]   NaN  NaN  "
      ]
     },
     "execution_count": 2,
     "metadata": {},
     "output_type": "execute_result"
    }
   ],
   "source": [
    "df=pd.read_json('your_posts_1.json')\n",
    "df.head(5)"
   ]
  },
  {
   "cell_type": "code",
   "execution_count": 3,
   "metadata": {},
   "outputs": [
    {
     "data": {
      "text/plain": [
       "(465, 5)"
      ]
     },
     "execution_count": 3,
     "metadata": {},
     "output_type": "execute_result"
    }
   ],
   "source": [
    "df.shape"
   ]
  },
  {
   "cell_type": "markdown",
   "metadata": {},
   "source": [
    "# Data Cleaning\n",
    "The focus of the analysis is on the frequency of the post, not the attached files or the content of the post. So all the unnecessary columns will be dropped. The timestamp column will also be renamed as the date column. "
   ]
  },
  {
   "cell_type": "code",
   "execution_count": 4,
   "metadata": {},
   "outputs": [],
   "source": [
    "#drop unnecessary columns\n",
    "df.drop (['attachments', 'title', 'tags'], axis=1, inplace=True)"
   ]
  },
  {
   "cell_type": "code",
   "execution_count": 5,
   "metadata": {},
   "outputs": [],
   "source": [
    "#rename the timestamp column to a date column \n",
    "df.rename(columns={'timestamp':'date'}, inplace=True)\n"
   ]
  },
  {
   "cell_type": "code",
   "execution_count": 6,
   "metadata": {},
   "outputs": [
    {
     "data": {
      "text/html": [
       "<div>\n",
       "<style scoped>\n",
       "    .dataframe tbody tr th:only-of-type {\n",
       "        vertical-align: middle;\n",
       "    }\n",
       "\n",
       "    .dataframe tbody tr th {\n",
       "        vertical-align: top;\n",
       "    }\n",
       "\n",
       "    .dataframe thead th {\n",
       "        text-align: right;\n",
       "    }\n",
       "</style>\n",
       "<table border=\"1\" class=\"dataframe\">\n",
       "  <thead>\n",
       "    <tr style=\"text-align: right;\">\n",
       "      <th></th>\n",
       "      <th>date</th>\n",
       "      <th>data</th>\n",
       "    </tr>\n",
       "  </thead>\n",
       "  <tbody>\n",
       "    <tr>\n",
       "      <th>0</th>\n",
       "      <td>2020-12-09 12:57:08</td>\n",
       "      <td>[{'post': 'Whew! \n",
       "It has been quite the year a...</td>\n",
       "    </tr>\n",
       "    <tr>\n",
       "      <th>1</th>\n",
       "      <td>2020-10-23 14:27:16</td>\n",
       "      <td>[{'post': '20.10.20.\n",
       "Who will pay for this los...</td>\n",
       "    </tr>\n",
       "    <tr>\n",
       "      <th>2</th>\n",
       "      <td>2020-10-14 16:55:45</td>\n",
       "      <td>[{'post': 'Many young Nigerians have been push...</td>\n",
       "    </tr>\n",
       "    <tr>\n",
       "      <th>3</th>\n",
       "      <td>2020-07-25 07:45:07</td>\n",
       "      <td>[{'update_timestamp': 1595663107}]</td>\n",
       "    </tr>\n",
       "    <tr>\n",
       "      <th>4</th>\n",
       "      <td>2020-07-22 11:20:12</td>\n",
       "      <td>[{'update_timestamp': 1595416812}]</td>\n",
       "    </tr>\n",
       "  </tbody>\n",
       "</table>\n",
       "</div>"
      ],
      "text/plain": [
       "                 date                                               data\n",
       "0 2020-12-09 12:57:08  [{'post': 'Whew! \n",
       "It has been quite the year a...\n",
       "1 2020-10-23 14:27:16  [{'post': '20.10.20.\n",
       "Who will pay for this los...\n",
       "2 2020-10-14 16:55:45  [{'post': 'Many young Nigerians have been push...\n",
       "3 2020-07-25 07:45:07                 [{'update_timestamp': 1595663107}]\n",
       "4 2020-07-22 11:20:12                 [{'update_timestamp': 1595416812}]"
      ]
     },
     "execution_count": 6,
     "metadata": {},
     "output_type": "execute_result"
    }
   ],
   "source": [
    "df.head(5)"
   ]
  },
  {
   "cell_type": "code",
   "execution_count": 7,
   "metadata": {},
   "outputs": [
    {
     "data": {
      "text/html": [
       "<div>\n",
       "<style scoped>\n",
       "    .dataframe tbody tr th:only-of-type {\n",
       "        vertical-align: middle;\n",
       "    }\n",
       "\n",
       "    .dataframe tbody tr th {\n",
       "        vertical-align: top;\n",
       "    }\n",
       "\n",
       "    .dataframe thead th {\n",
       "        text-align: right;\n",
       "    }\n",
       "</style>\n",
       "<table border=\"1\" class=\"dataframe\">\n",
       "  <thead>\n",
       "    <tr style=\"text-align: right;\">\n",
       "      <th></th>\n",
       "      <th>date</th>\n",
       "      <th>data</th>\n",
       "    </tr>\n",
       "  </thead>\n",
       "  <tbody>\n",
       "    <tr>\n",
       "      <th>460</th>\n",
       "      <td>2010-11-22 00:12:57</td>\n",
       "      <td>[{'post': 'Hmmn. . . . . . . . My exams starts...</td>\n",
       "    </tr>\n",
       "    <tr>\n",
       "      <th>461</th>\n",
       "      <td>2010-10-01 08:50:42</td>\n",
       "      <td>[{'post': 'Lets luk at d cup half-full.Lets c ...</td>\n",
       "    </tr>\n",
       "    <tr>\n",
       "      <th>462</th>\n",
       "      <td>2010-09-04 07:21:13</td>\n",
       "      <td>[{'post': 'Failing does not mean u r a failure...</td>\n",
       "    </tr>\n",
       "    <tr>\n",
       "      <th>463</th>\n",
       "      <td>2010-08-28 06:28:05</td>\n",
       "      <td>[{'post': 'Even if u are a street sweeper, swe...</td>\n",
       "    </tr>\n",
       "    <tr>\n",
       "      <th>464</th>\n",
       "      <td>2010-08-23 06:54:24</td>\n",
       "      <td>[{'post': 'Today is the first day of the rest ...</td>\n",
       "    </tr>\n",
       "  </tbody>\n",
       "</table>\n",
       "</div>"
      ],
      "text/plain": [
       "                   date                                               data\n",
       "460 2010-11-22 00:12:57  [{'post': 'Hmmn. . . . . . . . My exams starts...\n",
       "461 2010-10-01 08:50:42  [{'post': 'Lets luk at d cup half-full.Lets c ...\n",
       "462 2010-09-04 07:21:13  [{'post': 'Failing does not mean u r a failure...\n",
       "463 2010-08-28 06:28:05  [{'post': 'Even if u are a street sweeper, swe...\n",
       "464 2010-08-23 06:54:24  [{'post': 'Today is the first day of the rest ..."
      ]
     },
     "execution_count": 7,
     "metadata": {},
     "output_type": "execute_result"
    }
   ],
   "source": [
    "df.tail(5)"
   ]
  },
  {
   "cell_type": "code",
   "execution_count": 8,
   "metadata": {},
   "outputs": [],
   "source": [
    "df=df.set_index('date')"
   ]
  },
  {
   "cell_type": "code",
   "execution_count": 9,
   "metadata": {},
   "outputs": [
    {
     "data": {
      "text/plain": [
       "date\n",
       "2010-08-01    2\n",
       "2010-09-01    1\n",
       "2010-10-01    1\n",
       "2010-11-01    1\n",
       "2010-12-01    2\n",
       "             ..\n",
       "2020-08-01    0\n",
       "2020-09-01    0\n",
       "2020-10-01    2\n",
       "2020-11-01    0\n",
       "2020-12-01    1\n",
       "Freq: MS, Name: data, Length: 125, dtype: int64"
      ]
     },
     "execution_count": 9,
     "metadata": {},
     "output_type": "execute_result"
    }
   ],
   "source": [
    "post_counts=df['data'].resample('MS').size()\n",
    "post_counts"
   ]
  },
  {
   "cell_type": "markdown",
   "metadata": {},
   "source": [
    "# Data Visualisation"
   ]
  },
  {
   "cell_type": "code",
   "execution_count": 14,
   "metadata": {},
   "outputs": [
    {
     "data": {
      "image/png": "[encoded data removed]",
      "text/plain": [
       "<Figure size 1440x720 with 1 Axes>"
      ]
     },
     "metadata": {},
     "output_type": "display_data"
    }
   ],
   "source": [
    "sns.set(rc={'figure.figsize':(20,10)})\n",
    "sns.set(font_scale=2)\n",
    "\n",
    "# set x labels\n",
    "x_labels = post_counts.index\n",
    "\n",
    "#create bar plot\n",
    "sns.barplot(x_labels, post_counts, color=\"blue\")\n",
    "\n",
    "#show x-axis labels for Jan 1 of every year only\n",
    "tick_positions = np.arange(10, len(x_labels), step=12)\n",
    "\n",
    "#reformat date to display year onlyplt.ylabel(\"post counts\")\n",
    "plt.xticks(tick_positions, x_labels[tick_positions].strftime(\"%Y\"))\n",
    "\n",
    "# display the plot\n",
    "plt.show()"
   ]
  },
  {
   "cell_type": "markdown",
   "metadata": {},
   "source": [
    "The chart showed my Facebook usage. I was most active in 2014 which is very interesting as that year was my final year in university, so how come o? Shouldn’t I have been facing my book then? LOL. In 2019, I didn’t post at all. I started posting again 2020, I remember I have been sharing some of my writing on Facebook this year again."
   ]
  },
  {
   "cell_type": "code",
   "execution_count": null,
   "metadata": {},
   "outputs": [],
   "source": []
  }
 ],
 "metadata": {
  "kernelspec": {
   "display_name": "Python 3",
   "language": "python",
   "name": "python3"
  },
  "language_info": {
   "codemirror_mode": {
    "name": "ipython",
    "version": 3
   },
   "file_extension": ".py",
   "mimetype": "text/x-python",
   "name": "python",
   "nbconvert_exporter": "python",
   "pygments_lexer": "ipython3",
   "version": "3.7.6"
  }
 },
 "nbformat": 4,
 "nbformat_minor": 4
}
